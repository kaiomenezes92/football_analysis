{
  "nbformat": 4,
  "nbformat_minor": 2,
  "metadata": {
    "colab": {
      "name": "Análise de xG Brasileirão 21.ipynb",
      "provenance": [],
      "collapsed_sections": []
    },
    "kernelspec": {
      "name": "python3",
      "display_name": "Python 3.8.3 64-bit ('base': conda)"
    },
    "language_info": {
      "name": "python",
      "version": "3.8.3",
      "mimetype": "text/x-python",
      "codemirror_mode": {
        "name": "ipython",
        "version": 3
      },
      "pygments_lexer": "ipython3",
      "nbconvert_exporter": "python",
      "file_extension": ".py"
    },
    "interpreter": {
      "hash": "ce623431b360281b61b15d515706e8f2c409d301406cabb5d72302e7e4e256ae"
    }
  },
  "cells": [
    {
      "cell_type": "markdown",
      "source": [
        "# Analisando os artilheiros do Brasileirão 2021\r\n",
        "## (Minutos, Gols e xG)\r\n",
        "### (xG) Expected Goals (gols esperados) é uma métrica que mapeia os pontos de cada finalização e calcula a probabilidade que esse chute tem de resultar em gol, com base em algumas características."
      ],
      "metadata": {}
    },
    {
      "cell_type": "code",
      "execution_count": 1,
      "source": [
        "# Importa as bibliotecas\r\n",
        "# Selenium é uma biblioteca que automatiza navegadores\r\n",
        "# Webdriver é uma API que manipula navegadores automaticamente\r\n",
        "import pandas as pd\r\n",
        "from selenium import webdriver\r\n",
        "from selenium.webdriver.chrome.options import Options\r\n",
        "import plotly.express as px"
      ],
      "outputs": [],
      "metadata": {
        "id": "5he0L9b9gjD6"
      }
    },
    {
      "cell_type": "code",
      "execution_count": 2,
      "source": [
        "# Configuração padrão para o uso do Webdriver no Chrome\r\n",
        "chrome_options = Options()\r\n",
        "chrome_options.add_argument('--headless')\r\n",
        "browser = webdriver.Chrome(\"C:\\chromedriver_win32\\chromedriver\")"
      ],
      "outputs": [],
      "metadata": {
        "id": "dKF0GKoth3-z"
      }
    },
    {
      "cell_type": "code",
      "execution_count": 3,
      "source": [
        "# Passa o site para o browser, que nós queremos 'pegar' os dados\r\n",
        "browser.get('https://www.infogol.net/pt-BR/leagues/brazilian-serie-a-top-goalscorers-2021/319')"
      ],
      "outputs": [],
      "metadata": {
        "id": "7nzsE4zEihh7"
      }
    },
    {
      "cell_type": "code",
      "execution_count": 4,
      "source": [
        "# Cria um Dataframe a partir dos dados pegos no browser\r\n",
        "df = pd.read_html(browser.page_source)"
      ],
      "outputs": [],
      "metadata": {
        "id": "yJ2x3eE7iqms"
      }
    },
    {
      "cell_type": "code",
      "execution_count": 5,
      "source": [
        "# Classificando o Dataframe por 'Gols' de maneira decrescente\r\n",
        "df[0].sort_values(by=['Gols'], ascending=False).reset_index()"
      ],
      "outputs": [
        {
          "output_type": "execute_result",
          "data": {
            "text/html": [
              "<div>\n",
              "<style scoped>\n",
              "    .dataframe tbody tr th:only-of-type {\n",
              "        vertical-align: middle;\n",
              "    }\n",
              "\n",
              "    .dataframe tbody tr th {\n",
              "        vertical-align: top;\n",
              "    }\n",
              "\n",
              "    .dataframe thead th {\n",
              "        text-align: right;\n",
              "    }\n",
              "</style>\n",
              "<table border=\"1\" class=\"dataframe\">\n",
              "  <thead>\n",
              "    <tr style=\"text-align: right;\">\n",
              "      <th></th>\n",
              "      <th>index</th>\n",
              "      <th>Jogador</th>\n",
              "      <th>Jogos disputados</th>\n",
              "      <th>Minutos</th>\n",
              "      <th>Gols</th>\n",
              "      <th>xG</th>\n",
              "      <th>xG Por Média Por Partida</th>\n",
              "      <th>Chutes</th>\n",
              "      <th>Remates à baliza</th>\n",
              "      <th>Chutes Por Média Por Partida</th>\n",
              "      <th>Remates à baliza Por Média Por Partida</th>\n",
              "    </tr>\n",
              "  </thead>\n",
              "  <tbody>\n",
              "    <tr>\n",
              "      <th>0</th>\n",
              "      <td>0</td>\n",
              "      <td>(FLA) Bruno Henrique</td>\n",
              "      <td>12 (0)</td>\n",
              "      <td>1132</td>\n",
              "      <td>8</td>\n",
              "      <td>6.15</td>\n",
              "      <td>0.51</td>\n",
              "      <td>29</td>\n",
              "      <td>20</td>\n",
              "      <td>2.43</td>\n",
              "      <td>1.67</td>\n",
              "    </tr>\n",
              "    <tr>\n",
              "      <th>1</th>\n",
              "      <td>1</td>\n",
              "      <td>(INT) Edenilson</td>\n",
              "      <td>16 (2)</td>\n",
              "      <td>1607</td>\n",
              "      <td>8</td>\n",
              "      <td>6.63</td>\n",
              "      <td>0.39</td>\n",
              "      <td>25</td>\n",
              "      <td>13</td>\n",
              "      <td>1.47</td>\n",
              "      <td>0.76</td>\n",
              "    </tr>\n",
              "    <tr>\n",
              "      <th>2</th>\n",
              "      <td>2</td>\n",
              "      <td>(BAH) Gilberto</td>\n",
              "      <td>15 (4)</td>\n",
              "      <td>1513</td>\n",
              "      <td>7</td>\n",
              "      <td>5.14</td>\n",
              "      <td>0.32</td>\n",
              "      <td>37</td>\n",
              "      <td>14</td>\n",
              "      <td>2.32</td>\n",
              "      <td>0.87</td>\n",
              "    </tr>\n",
              "    <tr>\n",
              "      <th>3</th>\n",
              "      <td>3</td>\n",
              "      <td>(CAM) Hulk</td>\n",
              "      <td>17 (1)</td>\n",
              "      <td>1658</td>\n",
              "      <td>7</td>\n",
              "      <td>7.30</td>\n",
              "      <td>0.41</td>\n",
              "      <td>62</td>\n",
              "      <td>21</td>\n",
              "      <td>3.55</td>\n",
              "      <td>1.20</td>\n",
              "    </tr>\n",
              "    <tr>\n",
              "      <th>4</th>\n",
              "      <td>4</td>\n",
              "      <td>Matheus Peixoto</td>\n",
              "      <td>11 (1)</td>\n",
              "      <td>995</td>\n",
              "      <td>7</td>\n",
              "      <td>3.90</td>\n",
              "      <td>0.37</td>\n",
              "      <td>24</td>\n",
              "      <td>8</td>\n",
              "      <td>2.29</td>\n",
              "      <td>0.76</td>\n",
              "    </tr>\n",
              "    <tr>\n",
              "      <th>5</th>\n",
              "      <td>5</td>\n",
              "      <td>(FOR) Robson</td>\n",
              "      <td>17 (3)</td>\n",
              "      <td>1401</td>\n",
              "      <td>7</td>\n",
              "      <td>5.56</td>\n",
              "      <td>0.37</td>\n",
              "      <td>40</td>\n",
              "      <td>14</td>\n",
              "      <td>2.71</td>\n",
              "      <td>0.94</td>\n",
              "    </tr>\n",
              "    <tr>\n",
              "      <th>6</th>\n",
              "      <td>6</td>\n",
              "      <td>(RBB) Ytalo</td>\n",
              "      <td>13 (3)</td>\n",
              "      <td>1209</td>\n",
              "      <td>7</td>\n",
              "      <td>4.86</td>\n",
              "      <td>0.38</td>\n",
              "      <td>28</td>\n",
              "      <td>9</td>\n",
              "      <td>2.20</td>\n",
              "      <td>0.70</td>\n",
              "    </tr>\n",
              "    <tr>\n",
              "      <th>7</th>\n",
              "      <td>7</td>\n",
              "      <td>(CUI) Élton</td>\n",
              "      <td>9 (7)</td>\n",
              "      <td>921</td>\n",
              "      <td>6</td>\n",
              "      <td>3.50</td>\n",
              "      <td>0.36</td>\n",
              "      <td>30</td>\n",
              "      <td>12</td>\n",
              "      <td>3.09</td>\n",
              "      <td>1.23</td>\n",
              "    </tr>\n",
              "    <tr>\n",
              "      <th>8</th>\n",
              "      <td>8</td>\n",
              "      <td>(FLA) Gabriel Barbosa</td>\n",
              "      <td>6 (0)</td>\n",
              "      <td>480</td>\n",
              "      <td>6</td>\n",
              "      <td>6.75</td>\n",
              "      <td>1.33</td>\n",
              "      <td>21</td>\n",
              "      <td>15</td>\n",
              "      <td>4.15</td>\n",
              "      <td>2.96</td>\n",
              "    </tr>\n",
              "    <tr>\n",
              "      <th>9</th>\n",
              "      <td>9</td>\n",
              "      <td>(INT) Yuri Alberto</td>\n",
              "      <td>16 (2)</td>\n",
              "      <td>1511</td>\n",
              "      <td>6</td>\n",
              "      <td>8.68</td>\n",
              "      <td>0.54</td>\n",
              "      <td>49</td>\n",
              "      <td>22</td>\n",
              "      <td>3.08</td>\n",
              "      <td>1.38</td>\n",
              "    </tr>\n",
              "    <tr>\n",
              "      <th>10</th>\n",
              "      <td>12</td>\n",
              "      <td>(COR) Jô</td>\n",
              "      <td>15 (1)</td>\n",
              "      <td>1416</td>\n",
              "      <td>5</td>\n",
              "      <td>6.23</td>\n",
              "      <td>0.41</td>\n",
              "      <td>27</td>\n",
              "      <td>10</td>\n",
              "      <td>1.81</td>\n",
              "      <td>0.67</td>\n",
              "    </tr>\n",
              "    <tr>\n",
              "      <th>11</th>\n",
              "      <td>13</td>\n",
              "      <td>(AGO) Zé Roberto</td>\n",
              "      <td>14 (4)</td>\n",
              "      <td>1222</td>\n",
              "      <td>5</td>\n",
              "      <td>5.10</td>\n",
              "      <td>0.39</td>\n",
              "      <td>23</td>\n",
              "      <td>8</td>\n",
              "      <td>1.78</td>\n",
              "      <td>0.62</td>\n",
              "    </tr>\n",
              "    <tr>\n",
              "      <th>12</th>\n",
              "      <td>10</td>\n",
              "      <td>(PAL) Breno Lopes</td>\n",
              "      <td>4 (9)</td>\n",
              "      <td>631</td>\n",
              "      <td>5</td>\n",
              "      <td>2.83</td>\n",
              "      <td>0.42</td>\n",
              "      <td>15</td>\n",
              "      <td>9</td>\n",
              "      <td>2.25</td>\n",
              "      <td>1.35</td>\n",
              "    </tr>\n",
              "    <tr>\n",
              "      <th>13</th>\n",
              "      <td>11</td>\n",
              "      <td>(FOR) Yago Pikachu</td>\n",
              "      <td>18 (1)</td>\n",
              "      <td>1752</td>\n",
              "      <td>5</td>\n",
              "      <td>4.40</td>\n",
              "      <td>0.23</td>\n",
              "      <td>30</td>\n",
              "      <td>12</td>\n",
              "      <td>1.62</td>\n",
              "      <td>0.65</td>\n",
              "    </tr>\n",
              "    <tr>\n",
              "      <th>14</th>\n",
              "      <td>14</td>\n",
              "      <td>(ACF) Anselmo Ramón</td>\n",
              "      <td>17 (2)</td>\n",
              "      <td>1334</td>\n",
              "      <td>4</td>\n",
              "      <td>5.98</td>\n",
              "      <td>0.42</td>\n",
              "      <td>24</td>\n",
              "      <td>8</td>\n",
              "      <td>1.70</td>\n",
              "      <td>0.56</td>\n",
              "    </tr>\n",
              "    <tr>\n",
              "      <th>15</th>\n",
              "      <td>15</td>\n",
              "      <td>(RBB) Artur</td>\n",
              "      <td>16 (2)</td>\n",
              "      <td>1561</td>\n",
              "      <td>4</td>\n",
              "      <td>4.78</td>\n",
              "      <td>0.29</td>\n",
              "      <td>48</td>\n",
              "      <td>16</td>\n",
              "      <td>2.92</td>\n",
              "      <td>0.97</td>\n",
              "    </tr>\n",
              "    <tr>\n",
              "      <th>16</th>\n",
              "      <td>16</td>\n",
              "      <td>(FOR) David</td>\n",
              "      <td>13 (5)</td>\n",
              "      <td>1171</td>\n",
              "      <td>4</td>\n",
              "      <td>4.12</td>\n",
              "      <td>0.33</td>\n",
              "      <td>29</td>\n",
              "      <td>10</td>\n",
              "      <td>2.35</td>\n",
              "      <td>0.81</td>\n",
              "    </tr>\n",
              "    <tr>\n",
              "      <th>17</th>\n",
              "      <td>17</td>\n",
              "      <td>(CAP) David Terans</td>\n",
              "      <td>11 (7)</td>\n",
              "      <td>1080</td>\n",
              "      <td>4</td>\n",
              "      <td>2.41</td>\n",
              "      <td>0.21</td>\n",
              "      <td>38</td>\n",
              "      <td>14</td>\n",
              "      <td>3.34</td>\n",
              "      <td>1.23</td>\n",
              "    </tr>\n",
              "    <tr>\n",
              "      <th>18</th>\n",
              "      <td>18</td>\n",
              "      <td>(BAH) Hugo Rodallega</td>\n",
              "      <td>2 (4)</td>\n",
              "      <td>288</td>\n",
              "      <td>4</td>\n",
              "      <td>2.03</td>\n",
              "      <td>0.67</td>\n",
              "      <td>10</td>\n",
              "      <td>7</td>\n",
              "      <td>3.29</td>\n",
              "      <td>2.30</td>\n",
              "    </tr>\n",
              "    <tr>\n",
              "      <th>19</th>\n",
              "      <td>19</td>\n",
              "      <td>(CAM) Jefferson Savarino</td>\n",
              "      <td>9 (1)</td>\n",
              "      <td>769</td>\n",
              "      <td>4</td>\n",
              "      <td>3.83</td>\n",
              "      <td>0.47</td>\n",
              "      <td>23</td>\n",
              "      <td>7</td>\n",
              "      <td>2.84</td>\n",
              "      <td>0.86</td>\n",
              "    </tr>\n",
              "  </tbody>\n",
              "</table>\n",
              "</div>"
            ],
            "text/plain": [
              "    index                   Jogador Jogos disputados  Minutos  Gols    xG  \\\n",
              "0       0      (FLA) Bruno Henrique           12 (0)     1132     8  6.15   \n",
              "1       1           (INT) Edenilson           16 (2)     1607     8  6.63   \n",
              "2       2            (BAH) Gilberto           15 (4)     1513     7  5.14   \n",
              "3       3                (CAM) Hulk           17 (1)     1658     7  7.30   \n",
              "4       4           Matheus Peixoto           11 (1)      995     7  3.90   \n",
              "5       5              (FOR) Robson           17 (3)     1401     7  5.56   \n",
              "6       6               (RBB) Ytalo           13 (3)     1209     7  4.86   \n",
              "7       7               (CUI) Élton            9 (7)      921     6  3.50   \n",
              "8       8     (FLA) Gabriel Barbosa            6 (0)      480     6  6.75   \n",
              "9       9        (INT) Yuri Alberto           16 (2)     1511     6  8.68   \n",
              "10     12                  (COR) Jô           15 (1)     1416     5  6.23   \n",
              "11     13          (AGO) Zé Roberto           14 (4)     1222     5  5.10   \n",
              "12     10         (PAL) Breno Lopes            4 (9)      631     5  2.83   \n",
              "13     11        (FOR) Yago Pikachu           18 (1)     1752     5  4.40   \n",
              "14     14       (ACF) Anselmo Ramón           17 (2)     1334     4  5.98   \n",
              "15     15               (RBB) Artur           16 (2)     1561     4  4.78   \n",
              "16     16               (FOR) David           13 (5)     1171     4  4.12   \n",
              "17     17        (CAP) David Terans           11 (7)     1080     4  2.41   \n",
              "18     18      (BAH) Hugo Rodallega            2 (4)      288     4  2.03   \n",
              "19     19  (CAM) Jefferson Savarino            9 (1)      769     4  3.83   \n",
              "\n",
              "    xG Por Média Por Partida  Chutes  Remates à baliza  \\\n",
              "0                       0.51      29                20   \n",
              "1                       0.39      25                13   \n",
              "2                       0.32      37                14   \n",
              "3                       0.41      62                21   \n",
              "4                       0.37      24                 8   \n",
              "5                       0.37      40                14   \n",
              "6                       0.38      28                 9   \n",
              "7                       0.36      30                12   \n",
              "8                       1.33      21                15   \n",
              "9                       0.54      49                22   \n",
              "10                      0.41      27                10   \n",
              "11                      0.39      23                 8   \n",
              "12                      0.42      15                 9   \n",
              "13                      0.23      30                12   \n",
              "14                      0.42      24                 8   \n",
              "15                      0.29      48                16   \n",
              "16                      0.33      29                10   \n",
              "17                      0.21      38                14   \n",
              "18                      0.67      10                 7   \n",
              "19                      0.47      23                 7   \n",
              "\n",
              "    Chutes Por Média Por Partida  Remates à baliza Por Média Por Partida  \n",
              "0                           2.43                                    1.67  \n",
              "1                           1.47                                    0.76  \n",
              "2                           2.32                                    0.87  \n",
              "3                           3.55                                    1.20  \n",
              "4                           2.29                                    0.76  \n",
              "5                           2.71                                    0.94  \n",
              "6                           2.20                                    0.70  \n",
              "7                           3.09                                    1.23  \n",
              "8                           4.15                                    2.96  \n",
              "9                           3.08                                    1.38  \n",
              "10                          1.81                                    0.67  \n",
              "11                          1.78                                    0.62  \n",
              "12                          2.25                                    1.35  \n",
              "13                          1.62                                    0.65  \n",
              "14                          1.70                                    0.56  \n",
              "15                          2.92                                    0.97  \n",
              "16                          2.35                                    0.81  \n",
              "17                          3.34                                    1.23  \n",
              "18                          3.29                                    2.30  \n",
              "19                          2.84                                    0.86  "
            ]
          },
          "metadata": {},
          "execution_count": 5
        }
      ],
      "metadata": {
        "colab": {
          "base_uri": "https://localhost:8080/",
          "height": 771
        },
        "id": "mW9cxtYMi-Oq",
        "outputId": "3149327b-70ec-42de-84ed-8da2f9a5f03d"
      }
    },
    {
      "cell_type": "code",
      "execution_count": 6,
      "source": [
        "# Plotando o gráfico de dispersão\r\n",
        "px.scatter(df[0], x=\"Minutos\", y=\"Gols\", color='Jogador', size='xG', title='Artilheiros do Brasileirão 2021')"
      ],
      "outputs": [
        {
          "output_type": "display_data",
          "data": {
            "application/vnd.plotly.v1+json": {
              "config": {
                "plotlyServerURL": "https://plot.ly"
              },
              "data": [
                {
                  "hovertemplate": "Jogador=(FLA) Bruno Henrique<br>Minutos=%{x}<br>Gols=%{y}<br>xG=%{marker.size}<extra></extra>",
                  "legendgroup": "(FLA) Bruno Henrique",
                  "marker": {
                    "color": "#636efa",
                    "size": [
                      6.15
                    ],
                    "sizemode": "area",
                    "sizeref": 0.0217,
                    "symbol": "circle"
                  },
                  "mode": "markers",
                  "name": "(FLA) Bruno Henrique",
                  "orientation": "v",
                  "showlegend": true,
                  "type": "scatter",
                  "x": [
                    1132
                  ],
                  "xaxis": "x",
                  "y": [
                    8
                  ],
                  "yaxis": "y"
                },
                {
                  "hovertemplate": "Jogador=(INT) Edenilson<br>Minutos=%{x}<br>Gols=%{y}<br>xG=%{marker.size}<extra></extra>",
                  "legendgroup": "(INT) Edenilson",
                  "marker": {
                    "color": "#EF553B",
                    "size": [
                      6.63
                    ],
                    "sizemode": "area",
                    "sizeref": 0.0217,
                    "symbol": "circle"
                  },
                  "mode": "markers",
                  "name": "(INT) Edenilson",
                  "orientation": "v",
                  "showlegend": true,
                  "type": "scatter",
                  "x": [
                    1607
                  ],
                  "xaxis": "x",
                  "y": [
                    8
                  ],
                  "yaxis": "y"
                },
                {
                  "hovertemplate": "Jogador=(BAH) Gilberto<br>Minutos=%{x}<br>Gols=%{y}<br>xG=%{marker.size}<extra></extra>",
                  "legendgroup": "(BAH) Gilberto",
                  "marker": {
                    "color": "#00cc96",
                    "size": [
                      5.14
                    ],
                    "sizemode": "area",
                    "sizeref": 0.0217,
                    "symbol": "circle"
                  },
                  "mode": "markers",
                  "name": "(BAH) Gilberto",
                  "orientation": "v",
                  "showlegend": true,
                  "type": "scatter",
                  "x": [
                    1513
                  ],
                  "xaxis": "x",
                  "y": [
                    7
                  ],
                  "yaxis": "y"
                },
                {
                  "hovertemplate": "Jogador=(CAM) Hulk<br>Minutos=%{x}<br>Gols=%{y}<br>xG=%{marker.size}<extra></extra>",
                  "legendgroup": "(CAM) Hulk",
                  "marker": {
                    "color": "#ab63fa",
                    "size": [
                      7.3
                    ],
                    "sizemode": "area",
                    "sizeref": 0.0217,
                    "symbol": "circle"
                  },
                  "mode": "markers",
                  "name": "(CAM) Hulk",
                  "orientation": "v",
                  "showlegend": true,
                  "type": "scatter",
                  "x": [
                    1658
                  ],
                  "xaxis": "x",
                  "y": [
                    7
                  ],
                  "yaxis": "y"
                },
                {
                  "hovertemplate": "Jogador=Matheus Peixoto<br>Minutos=%{x}<br>Gols=%{y}<br>xG=%{marker.size}<extra></extra>",
                  "legendgroup": "Matheus Peixoto",
                  "marker": {
                    "color": "#FFA15A",
                    "size": [
                      3.9
                    ],
                    "sizemode": "area",
                    "sizeref": 0.0217,
                    "symbol": "circle"
                  },
                  "mode": "markers",
                  "name": "Matheus Peixoto",
                  "orientation": "v",
                  "showlegend": true,
                  "type": "scatter",
                  "x": [
                    995
                  ],
                  "xaxis": "x",
                  "y": [
                    7
                  ],
                  "yaxis": "y"
                },
                {
                  "hovertemplate": "Jogador=(FOR) Robson<br>Minutos=%{x}<br>Gols=%{y}<br>xG=%{marker.size}<extra></extra>",
                  "legendgroup": "(FOR) Robson",
                  "marker": {
                    "color": "#19d3f3",
                    "size": [
                      5.56
                    ],
                    "sizemode": "area",
                    "sizeref": 0.0217,
                    "symbol": "circle"
                  },
                  "mode": "markers",
                  "name": "(FOR) Robson",
                  "orientation": "v",
                  "showlegend": true,
                  "type": "scatter",
                  "x": [
                    1401
                  ],
                  "xaxis": "x",
                  "y": [
                    7
                  ],
                  "yaxis": "y"
                },
                {
                  "hovertemplate": "Jogador=(RBB) Ytalo<br>Minutos=%{x}<br>Gols=%{y}<br>xG=%{marker.size}<extra></extra>",
                  "legendgroup": "(RBB) Ytalo",
                  "marker": {
                    "color": "#FF6692",
                    "size": [
                      4.86
                    ],
                    "sizemode": "area",
                    "sizeref": 0.0217,
                    "symbol": "circle"
                  },
                  "mode": "markers",
                  "name": "(RBB) Ytalo",
                  "orientation": "v",
                  "showlegend": true,
                  "type": "scatter",
                  "x": [
                    1209
                  ],
                  "xaxis": "x",
                  "y": [
                    7
                  ],
                  "yaxis": "y"
                },
                {
                  "hovertemplate": "Jogador=(CUI) Élton<br>Minutos=%{x}<br>Gols=%{y}<br>xG=%{marker.size}<extra></extra>",
                  "legendgroup": "(CUI) Élton",
                  "marker": {
                    "color": "#B6E880",
                    "size": [
                      3.5
                    ],
                    "sizemode": "area",
                    "sizeref": 0.0217,
                    "symbol": "circle"
                  },
                  "mode": "markers",
                  "name": "(CUI) Élton",
                  "orientation": "v",
                  "showlegend": true,
                  "type": "scatter",
                  "x": [
                    921
                  ],
                  "xaxis": "x",
                  "y": [
                    6
                  ],
                  "yaxis": "y"
                },
                {
                  "hovertemplate": "Jogador=(FLA) Gabriel Barbosa<br>Minutos=%{x}<br>Gols=%{y}<br>xG=%{marker.size}<extra></extra>",
                  "legendgroup": "(FLA) Gabriel Barbosa",
                  "marker": {
                    "color": "#FF97FF",
                    "size": [
                      6.75
                    ],
                    "sizemode": "area",
                    "sizeref": 0.0217,
                    "symbol": "circle"
                  },
                  "mode": "markers",
                  "name": "(FLA) Gabriel Barbosa",
                  "orientation": "v",
                  "showlegend": true,
                  "type": "scatter",
                  "x": [
                    480
                  ],
                  "xaxis": "x",
                  "y": [
                    6
                  ],
                  "yaxis": "y"
                },
                {
                  "hovertemplate": "Jogador=(INT) Yuri Alberto<br>Minutos=%{x}<br>Gols=%{y}<br>xG=%{marker.size}<extra></extra>",
                  "legendgroup": "(INT) Yuri Alberto",
                  "marker": {
                    "color": "#FECB52",
                    "size": [
                      8.68
                    ],
                    "sizemode": "area",
                    "sizeref": 0.0217,
                    "symbol": "circle"
                  },
                  "mode": "markers",
                  "name": "(INT) Yuri Alberto",
                  "orientation": "v",
                  "showlegend": true,
                  "type": "scatter",
                  "x": [
                    1511
                  ],
                  "xaxis": "x",
                  "y": [
                    6
                  ],
                  "yaxis": "y"
                },
                {
                  "hovertemplate": "Jogador=(PAL) Breno Lopes<br>Minutos=%{x}<br>Gols=%{y}<br>xG=%{marker.size}<extra></extra>",
                  "legendgroup": "(PAL) Breno Lopes",
                  "marker": {
                    "color": "#636efa",
                    "size": [
                      2.83
                    ],
                    "sizemode": "area",
                    "sizeref": 0.0217,
                    "symbol": "circle"
                  },
                  "mode": "markers",
                  "name": "(PAL) Breno Lopes",
                  "orientation": "v",
                  "showlegend": true,
                  "type": "scatter",
                  "x": [
                    631
                  ],
                  "xaxis": "x",
                  "y": [
                    5
                  ],
                  "yaxis": "y"
                },
                {
                  "hovertemplate": "Jogador=(FOR) Yago Pikachu<br>Minutos=%{x}<br>Gols=%{y}<br>xG=%{marker.size}<extra></extra>",
                  "legendgroup": "(FOR) Yago Pikachu",
                  "marker": {
                    "color": "#EF553B",
                    "size": [
                      4.4
                    ],
                    "sizemode": "area",
                    "sizeref": 0.0217,
                    "symbol": "circle"
                  },
                  "mode": "markers",
                  "name": "(FOR) Yago Pikachu",
                  "orientation": "v",
                  "showlegend": true,
                  "type": "scatter",
                  "x": [
                    1752
                  ],
                  "xaxis": "x",
                  "y": [
                    5
                  ],
                  "yaxis": "y"
                },
                {
                  "hovertemplate": "Jogador=(COR) Jô<br>Minutos=%{x}<br>Gols=%{y}<br>xG=%{marker.size}<extra></extra>",
                  "legendgroup": "(COR) Jô",
                  "marker": {
                    "color": "#00cc96",
                    "size": [
                      6.23
                    ],
                    "sizemode": "area",
                    "sizeref": 0.0217,
                    "symbol": "circle"
                  },
                  "mode": "markers",
                  "name": "(COR) Jô",
                  "orientation": "v",
                  "showlegend": true,
                  "type": "scatter",
                  "x": [
                    1416
                  ],
                  "xaxis": "x",
                  "y": [
                    5
                  ],
                  "yaxis": "y"
                },
                {
                  "hovertemplate": "Jogador=(AGO) Zé Roberto<br>Minutos=%{x}<br>Gols=%{y}<br>xG=%{marker.size}<extra></extra>",
                  "legendgroup": "(AGO) Zé Roberto",
                  "marker": {
                    "color": "#ab63fa",
                    "size": [
                      5.1
                    ],
                    "sizemode": "area",
                    "sizeref": 0.0217,
                    "symbol": "circle"
                  },
                  "mode": "markers",
                  "name": "(AGO) Zé Roberto",
                  "orientation": "v",
                  "showlegend": true,
                  "type": "scatter",
                  "x": [
                    1222
                  ],
                  "xaxis": "x",
                  "y": [
                    5
                  ],
                  "yaxis": "y"
                },
                {
                  "hovertemplate": "Jogador=(ACF) Anselmo Ramón<br>Minutos=%{x}<br>Gols=%{y}<br>xG=%{marker.size}<extra></extra>",
                  "legendgroup": "(ACF) Anselmo Ramón",
                  "marker": {
                    "color": "#FFA15A",
                    "size": [
                      5.98
                    ],
                    "sizemode": "area",
                    "sizeref": 0.0217,
                    "symbol": "circle"
                  },
                  "mode": "markers",
                  "name": "(ACF) Anselmo Ramón",
                  "orientation": "v",
                  "showlegend": true,
                  "type": "scatter",
                  "x": [
                    1334
                  ],
                  "xaxis": "x",
                  "y": [
                    4
                  ],
                  "yaxis": "y"
                },
                {
                  "hovertemplate": "Jogador=(RBB) Artur<br>Minutos=%{x}<br>Gols=%{y}<br>xG=%{marker.size}<extra></extra>",
                  "legendgroup": "(RBB) Artur",
                  "marker": {
                    "color": "#19d3f3",
                    "size": [
                      4.78
                    ],
                    "sizemode": "area",
                    "sizeref": 0.0217,
                    "symbol": "circle"
                  },
                  "mode": "markers",
                  "name": "(RBB) Artur",
                  "orientation": "v",
                  "showlegend": true,
                  "type": "scatter",
                  "x": [
                    1561
                  ],
                  "xaxis": "x",
                  "y": [
                    4
                  ],
                  "yaxis": "y"
                },
                {
                  "hovertemplate": "Jogador=(FOR) David<br>Minutos=%{x}<br>Gols=%{y}<br>xG=%{marker.size}<extra></extra>",
                  "legendgroup": "(FOR) David",
                  "marker": {
                    "color": "#FF6692",
                    "size": [
                      4.12
                    ],
                    "sizemode": "area",
                    "sizeref": 0.0217,
                    "symbol": "circle"
                  },
                  "mode": "markers",
                  "name": "(FOR) David",
                  "orientation": "v",
                  "showlegend": true,
                  "type": "scatter",
                  "x": [
                    1171
                  ],
                  "xaxis": "x",
                  "y": [
                    4
                  ],
                  "yaxis": "y"
                },
                {
                  "hovertemplate": "Jogador=(CAP) David Terans<br>Minutos=%{x}<br>Gols=%{y}<br>xG=%{marker.size}<extra></extra>",
                  "legendgroup": "(CAP) David Terans",
                  "marker": {
                    "color": "#B6E880",
                    "size": [
                      2.41
                    ],
                    "sizemode": "area",
                    "sizeref": 0.0217,
                    "symbol": "circle"
                  },
                  "mode": "markers",
                  "name": "(CAP) David Terans",
                  "orientation": "v",
                  "showlegend": true,
                  "type": "scatter",
                  "x": [
                    1080
                  ],
                  "xaxis": "x",
                  "y": [
                    4
                  ],
                  "yaxis": "y"
                },
                {
                  "hovertemplate": "Jogador=(BAH) Hugo Rodallega<br>Minutos=%{x}<br>Gols=%{y}<br>xG=%{marker.size}<extra></extra>",
                  "legendgroup": "(BAH) Hugo Rodallega",
                  "marker": {
                    "color": "#FF97FF",
                    "size": [
                      2.03
                    ],
                    "sizemode": "area",
                    "sizeref": 0.0217,
                    "symbol": "circle"
                  },
                  "mode": "markers",
                  "name": "(BAH) Hugo Rodallega",
                  "orientation": "v",
                  "showlegend": true,
                  "type": "scatter",
                  "x": [
                    288
                  ],
                  "xaxis": "x",
                  "y": [
                    4
                  ],
                  "yaxis": "y"
                },
                {
                  "hovertemplate": "Jogador=(CAM) Jefferson Savarino<br>Minutos=%{x}<br>Gols=%{y}<br>xG=%{marker.size}<extra></extra>",
                  "legendgroup": "(CAM) Jefferson Savarino",
                  "marker": {
                    "color": "#FECB52",
                    "size": [
                      3.83
                    ],
                    "sizemode": "area",
                    "sizeref": 0.0217,
                    "symbol": "circle"
                  },
                  "mode": "markers",
                  "name": "(CAM) Jefferson Savarino",
                  "orientation": "v",
                  "showlegend": true,
                  "type": "scatter",
                  "x": [
                    769
                  ],
                  "xaxis": "x",
                  "y": [
                    4
                  ],
                  "yaxis": "y"
                }
              ],
              "layout": {
                "legend": {
                  "itemsizing": "constant",
                  "title": {
                    "text": "Jogador"
                  },
                  "tracegroupgap": 0
                },
                "template": {
                  "data": {
                    "bar": [
                      {
                        "error_x": {
                          "color": "#2a3f5f"
                        },
                        "error_y": {
                          "color": "#2a3f5f"
                        },
                        "marker": {
                          "line": {
                            "color": "#E5ECF6",
                            "width": 0.5
                          }
                        },
                        "type": "bar"
                      }
                    ],
                    "barpolar": [
                      {
                        "marker": {
                          "line": {
                            "color": "#E5ECF6",
                            "width": 0.5
                          }
                        },
                        "type": "barpolar"
                      }
                    ],
                    "carpet": [
                      {
                        "aaxis": {
                          "endlinecolor": "#2a3f5f",
                          "gridcolor": "white",
                          "linecolor": "white",
                          "minorgridcolor": "white",
                          "startlinecolor": "#2a3f5f"
                        },
                        "baxis": {
                          "endlinecolor": "#2a3f5f",
                          "gridcolor": "white",
                          "linecolor": "white",
                          "minorgridcolor": "white",
                          "startlinecolor": "#2a3f5f"
                        },
                        "type": "carpet"
                      }
                    ],
                    "choropleth": [
                      {
                        "colorbar": {
                          "outlinewidth": 0,
                          "ticks": ""
                        },
                        "type": "choropleth"
                      }
                    ],
                    "contour": [
                      {
                        "colorbar": {
                          "outlinewidth": 0,
                          "ticks": ""
                        },
                        "colorscale": [
                          [
                            0,
                            "#0d0887"
                          ],
                          [
                            0.1111111111111111,
                            "#46039f"
                          ],
                          [
                            0.2222222222222222,
                            "#7201a8"
                          ],
                          [
                            0.3333333333333333,
                            "#9c179e"
                          ],
                          [
                            0.4444444444444444,
                            "#bd3786"
                          ],
                          [
                            0.5555555555555556,
                            "#d8576b"
                          ],
                          [
                            0.6666666666666666,
                            "#ed7953"
                          ],
                          [
                            0.7777777777777778,
                            "#fb9f3a"
                          ],
                          [
                            0.8888888888888888,
                            "#fdca26"
                          ],
                          [
                            1,
                            "#f0f921"
                          ]
                        ],
                        "type": "contour"
                      }
                    ],
                    "contourcarpet": [
                      {
                        "colorbar": {
                          "outlinewidth": 0,
                          "ticks": ""
                        },
                        "type": "contourcarpet"
                      }
                    ],
                    "heatmap": [
                      {
                        "colorbar": {
                          "outlinewidth": 0,
                          "ticks": ""
                        },
                        "colorscale": [
                          [
                            0,
                            "#0d0887"
                          ],
                          [
                            0.1111111111111111,
                            "#46039f"
                          ],
                          [
                            0.2222222222222222,
                            "#7201a8"
                          ],
                          [
                            0.3333333333333333,
                            "#9c179e"
                          ],
                          [
                            0.4444444444444444,
                            "#bd3786"
                          ],
                          [
                            0.5555555555555556,
                            "#d8576b"
                          ],
                          [
                            0.6666666666666666,
                            "#ed7953"
                          ],
                          [
                            0.7777777777777778,
                            "#fb9f3a"
                          ],
                          [
                            0.8888888888888888,
                            "#fdca26"
                          ],
                          [
                            1,
                            "#f0f921"
                          ]
                        ],
                        "type": "heatmap"
                      }
                    ],
                    "heatmapgl": [
                      {
                        "colorbar": {
                          "outlinewidth": 0,
                          "ticks": ""
                        },
                        "colorscale": [
                          [
                            0,
                            "#0d0887"
                          ],
                          [
                            0.1111111111111111,
                            "#46039f"
                          ],
                          [
                            0.2222222222222222,
                            "#7201a8"
                          ],
                          [
                            0.3333333333333333,
                            "#9c179e"
                          ],
                          [
                            0.4444444444444444,
                            "#bd3786"
                          ],
                          [
                            0.5555555555555556,
                            "#d8576b"
                          ],
                          [
                            0.6666666666666666,
                            "#ed7953"
                          ],
                          [
                            0.7777777777777778,
                            "#fb9f3a"
                          ],
                          [
                            0.8888888888888888,
                            "#fdca26"
                          ],
                          [
                            1,
                            "#f0f921"
                          ]
                        ],
                        "type": "heatmapgl"
                      }
                    ],
                    "histogram": [
                      {
                        "marker": {
                          "colorbar": {
                            "outlinewidth": 0,
                            "ticks": ""
                          }
                        },
                        "type": "histogram"
                      }
                    ],
                    "histogram2d": [
                      {
                        "colorbar": {
                          "outlinewidth": 0,
                          "ticks": ""
                        },
                        "colorscale": [
                          [
                            0,
                            "#0d0887"
                          ],
                          [
                            0.1111111111111111,
                            "#46039f"
                          ],
                          [
                            0.2222222222222222,
                            "#7201a8"
                          ],
                          [
                            0.3333333333333333,
                            "#9c179e"
                          ],
                          [
                            0.4444444444444444,
                            "#bd3786"
                          ],
                          [
                            0.5555555555555556,
                            "#d8576b"
                          ],
                          [
                            0.6666666666666666,
                            "#ed7953"
                          ],
                          [
                            0.7777777777777778,
                            "#fb9f3a"
                          ],
                          [
                            0.8888888888888888,
                            "#fdca26"
                          ],
                          [
                            1,
                            "#f0f921"
                          ]
                        ],
                        "type": "histogram2d"
                      }
                    ],
                    "histogram2dcontour": [
                      {
                        "colorbar": {
                          "outlinewidth": 0,
                          "ticks": ""
                        },
                        "colorscale": [
                          [
                            0,
                            "#0d0887"
                          ],
                          [
                            0.1111111111111111,
                            "#46039f"
                          ],
                          [
                            0.2222222222222222,
                            "#7201a8"
                          ],
                          [
                            0.3333333333333333,
                            "#9c179e"
                          ],
                          [
                            0.4444444444444444,
                            "#bd3786"
                          ],
                          [
                            0.5555555555555556,
                            "#d8576b"
                          ],
                          [
                            0.6666666666666666,
                            "#ed7953"
                          ],
                          [
                            0.7777777777777778,
                            "#fb9f3a"
                          ],
                          [
                            0.8888888888888888,
                            "#fdca26"
                          ],
                          [
                            1,
                            "#f0f921"
                          ]
                        ],
                        "type": "histogram2dcontour"
                      }
                    ],
                    "mesh3d": [
                      {
                        "colorbar": {
                          "outlinewidth": 0,
                          "ticks": ""
                        },
                        "type": "mesh3d"
                      }
                    ],
                    "parcoords": [
                      {
                        "line": {
                          "colorbar": {
                            "outlinewidth": 0,
                            "ticks": ""
                          }
                        },
                        "type": "parcoords"
                      }
                    ],
                    "pie": [
                      {
                        "automargin": true,
                        "type": "pie"
                      }
                    ],
                    "scatter": [
                      {
                        "marker": {
                          "colorbar": {
                            "outlinewidth": 0,
                            "ticks": ""
                          }
                        },
                        "type": "scatter"
                      }
                    ],
                    "scatter3d": [
                      {
                        "line": {
                          "colorbar": {
                            "outlinewidth": 0,
                            "ticks": ""
                          }
                        },
                        "marker": {
                          "colorbar": {
                            "outlinewidth": 0,
                            "ticks": ""
                          }
                        },
                        "type": "scatter3d"
                      }
                    ],
                    "scattercarpet": [
                      {
                        "marker": {
                          "colorbar": {
                            "outlinewidth": 0,
                            "ticks": ""
                          }
                        },
                        "type": "scattercarpet"
                      }
                    ],
                    "scattergeo": [
                      {
                        "marker": {
                          "colorbar": {
                            "outlinewidth": 0,
                            "ticks": ""
                          }
                        },
                        "type": "scattergeo"
                      }
                    ],
                    "scattergl": [
                      {
                        "marker": {
                          "colorbar": {
                            "outlinewidth": 0,
                            "ticks": ""
                          }
                        },
                        "type": "scattergl"
                      }
                    ],
                    "scattermapbox": [
                      {
                        "marker": {
                          "colorbar": {
                            "outlinewidth": 0,
                            "ticks": ""
                          }
                        },
                        "type": "scattermapbox"
                      }
                    ],
                    "scatterpolar": [
                      {
                        "marker": {
                          "colorbar": {
                            "outlinewidth": 0,
                            "ticks": ""
                          }
                        },
                        "type": "scatterpolar"
                      }
                    ],
                    "scatterpolargl": [
                      {
                        "marker": {
                          "colorbar": {
                            "outlinewidth": 0,
                            "ticks": ""
                          }
                        },
                        "type": "scatterpolargl"
                      }
                    ],
                    "scatterternary": [
                      {
                        "marker": {
                          "colorbar": {
                            "outlinewidth": 0,
                            "ticks": ""
                          }
                        },
                        "type": "scatterternary"
                      }
                    ],
                    "surface": [
                      {
                        "colorbar": {
                          "outlinewidth": 0,
                          "ticks": ""
                        },
                        "colorscale": [
                          [
                            0,
                            "#0d0887"
                          ],
                          [
                            0.1111111111111111,
                            "#46039f"
                          ],
                          [
                            0.2222222222222222,
                            "#7201a8"
                          ],
                          [
                            0.3333333333333333,
                            "#9c179e"
                          ],
                          [
                            0.4444444444444444,
                            "#bd3786"
                          ],
                          [
                            0.5555555555555556,
                            "#d8576b"
                          ],
                          [
                            0.6666666666666666,
                            "#ed7953"
                          ],
                          [
                            0.7777777777777778,
                            "#fb9f3a"
                          ],
                          [
                            0.8888888888888888,
                            "#fdca26"
                          ],
                          [
                            1,
                            "#f0f921"
                          ]
                        ],
                        "type": "surface"
                      }
                    ],
                    "table": [
                      {
                        "cells": {
                          "fill": {
                            "color": "#EBF0F8"
                          },
                          "line": {
                            "color": "white"
                          }
                        },
                        "header": {
                          "fill": {
                            "color": "#C8D4E3"
                          },
                          "line": {
                            "color": "white"
                          }
                        },
                        "type": "table"
                      }
                    ]
                  },
                  "layout": {
                    "annotationdefaults": {
                      "arrowcolor": "#2a3f5f",
                      "arrowhead": 0,
                      "arrowwidth": 1
                    },
                    "autotypenumbers": "strict",
                    "coloraxis": {
                      "colorbar": {
                        "outlinewidth": 0,
                        "ticks": ""
                      }
                    },
                    "colorscale": {
                      "diverging": [
                        [
                          0,
                          "#8e0152"
                        ],
                        [
                          0.1,
                          "#c51b7d"
                        ],
                        [
                          0.2,
                          "#de77ae"
                        ],
                        [
                          0.3,
                          "#f1b6da"
                        ],
                        [
                          0.4,
                          "#fde0ef"
                        ],
                        [
                          0.5,
                          "#f7f7f7"
                        ],
                        [
                          0.6,
                          "#e6f5d0"
                        ],
                        [
                          0.7,
                          "#b8e186"
                        ],
                        [
                          0.8,
                          "#7fbc41"
                        ],
                        [
                          0.9,
                          "#4d9221"
                        ],
                        [
                          1,
                          "#276419"
                        ]
                      ],
                      "sequential": [
                        [
                          0,
                          "#0d0887"
                        ],
                        [
                          0.1111111111111111,
                          "#46039f"
                        ],
                        [
                          0.2222222222222222,
                          "#7201a8"
                        ],
                        [
                          0.3333333333333333,
                          "#9c179e"
                        ],
                        [
                          0.4444444444444444,
                          "#bd3786"
                        ],
                        [
                          0.5555555555555556,
                          "#d8576b"
                        ],
                        [
                          0.6666666666666666,
                          "#ed7953"
                        ],
                        [
                          0.7777777777777778,
                          "#fb9f3a"
                        ],
                        [
                          0.8888888888888888,
                          "#fdca26"
                        ],
                        [
                          1,
                          "#f0f921"
                        ]
                      ],
                      "sequentialminus": [
                        [
                          0,
                          "#0d0887"
                        ],
                        [
                          0.1111111111111111,
                          "#46039f"
                        ],
                        [
                          0.2222222222222222,
                          "#7201a8"
                        ],
                        [
                          0.3333333333333333,
                          "#9c179e"
                        ],
                        [
                          0.4444444444444444,
                          "#bd3786"
                        ],
                        [
                          0.5555555555555556,
                          "#d8576b"
                        ],
                        [
                          0.6666666666666666,
                          "#ed7953"
                        ],
                        [
                          0.7777777777777778,
                          "#fb9f3a"
                        ],
                        [
                          0.8888888888888888,
                          "#fdca26"
                        ],
                        [
                          1,
                          "#f0f921"
                        ]
                      ]
                    },
                    "colorway": [
                      "#636efa",
                      "#EF553B",
                      "#00cc96",
                      "#ab63fa",
                      "#FFA15A",
                      "#19d3f3",
                      "#FF6692",
                      "#B6E880",
                      "#FF97FF",
                      "#FECB52"
                    ],
                    "font": {
                      "color": "#2a3f5f"
                    },
                    "geo": {
                      "bgcolor": "white",
                      "lakecolor": "white",
                      "landcolor": "#E5ECF6",
                      "showlakes": true,
                      "showland": true,
                      "subunitcolor": "white"
                    },
                    "hoverlabel": {
                      "align": "left"
                    },
                    "hovermode": "closest",
                    "mapbox": {
                      "style": "light"
                    },
                    "paper_bgcolor": "white",
                    "plot_bgcolor": "#E5ECF6",
                    "polar": {
                      "angularaxis": {
                        "gridcolor": "white",
                        "linecolor": "white",
                        "ticks": ""
                      },
                      "bgcolor": "#E5ECF6",
                      "radialaxis": {
                        "gridcolor": "white",
                        "linecolor": "white",
                        "ticks": ""
                      }
                    },
                    "scene": {
                      "xaxis": {
                        "backgroundcolor": "#E5ECF6",
                        "gridcolor": "white",
                        "gridwidth": 2,
                        "linecolor": "white",
                        "showbackground": true,
                        "ticks": "",
                        "zerolinecolor": "white"
                      },
                      "yaxis": {
                        "backgroundcolor": "#E5ECF6",
                        "gridcolor": "white",
                        "gridwidth": 2,
                        "linecolor": "white",
                        "showbackground": true,
                        "ticks": "",
                        "zerolinecolor": "white"
                      },
                      "zaxis": {
                        "backgroundcolor": "#E5ECF6",
                        "gridcolor": "white",
                        "gridwidth": 2,
                        "linecolor": "white",
                        "showbackground": true,
                        "ticks": "",
                        "zerolinecolor": "white"
                      }
                    },
                    "shapedefaults": {
                      "line": {
                        "color": "#2a3f5f"
                      }
                    },
                    "ternary": {
                      "aaxis": {
                        "gridcolor": "white",
                        "linecolor": "white",
                        "ticks": ""
                      },
                      "baxis": {
                        "gridcolor": "white",
                        "linecolor": "white",
                        "ticks": ""
                      },
                      "bgcolor": "#E5ECF6",
                      "caxis": {
                        "gridcolor": "white",
                        "linecolor": "white",
                        "ticks": ""
                      }
                    },
                    "title": {
                      "x": 0.05
                    },
                    "xaxis": {
                      "automargin": true,
                      "gridcolor": "white",
                      "linecolor": "white",
                      "ticks": "",
                      "title": {
                        "standoff": 15
                      },
                      "zerolinecolor": "white",
                      "zerolinewidth": 2
                    },
                    "yaxis": {
                      "automargin": true,
                      "gridcolor": "white",
                      "linecolor": "white",
                      "ticks": "",
                      "title": {
                        "standoff": 15
                      },
                      "zerolinecolor": "white",
                      "zerolinewidth": 2
                    }
                  }
                },
                "title": {
                  "text": "Artilheiros do Brasileirão 2021"
                },
                "xaxis": {
                  "anchor": "y",
                  "domain": [
                    0,
                    1
                  ],
                  "title": {
                    "text": "Minutos"
                  }
                },
                "yaxis": {
                  "anchor": "x",
                  "domain": [
                    0,
                    1
                  ],
                  "title": {
                    "text": "Gols"
                  }
                }
              }
            }
          },
          "metadata": {}
        }
      ],
      "metadata": {
        "colab": {
          "base_uri": "https://localhost:8080/",
          "height": 542
        },
        "id": "Nwsp9nQ3jNHB",
        "outputId": "e70ae52b-7a05-47a4-c273-67dd50b7c887"
      }
    }
  ]
}